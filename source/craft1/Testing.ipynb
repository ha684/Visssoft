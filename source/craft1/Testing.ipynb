{
 "cells": [
  {
   "cell_type": "code",
   "execution_count": 1,
   "id": "feadcc69-e60c-4ca4-9195-0df0714fd4c4",
   "metadata": {},
   "outputs": [
    {
     "name": "stderr",
     "output_type": "stream",
     "text": [
      "usage: ipykernel_launcher.py [-h] [--trained_model TRAINED_MODEL] [--text_threshold TEXT_THRESHOLD]\n",
      "                             [--low_text LOW_TEXT] [--link_threshold LINK_THRESHOLD] [--cuda CUDA]\n",
      "                             [--canvas_size CANVAS_SIZE] [--mag_ratio MAG_RATIO] [--poly] [--show_time]\n",
      "                             [--test_folder TEST_FOLDER] [--refine] [--refiner_model REFINER_MODEL]\n",
      "ipykernel_launcher.py: error: unrecognized arguments: -f C:\\Users\\OS\\AppData\\Roaming\\jupyter\\runtime\\kernel-f33d757b-4eaf-42a3-8037-fdd726c2b82d.json\n"
     ]
    },
    {
     "ename": "SystemExit",
     "evalue": "2",
     "output_type": "error",
     "traceback": [
      "An exception has occurred, use %tb to see the full traceback.\n",
      "\u001b[1;31mSystemExit\u001b[0m\u001b[1;31m:\u001b[0m 2\n"
     ]
    },
    {
     "name": "stderr",
     "output_type": "stream",
     "text": [
      "D:\\Temp\\anaconda\\envs\\heza\\lib\\site-packages\\IPython\\core\\interactiveshell.py:3558: UserWarning: To exit: use 'exit', 'quit', or Ctrl-D.\n",
      "  warn(\"To exit: use 'exit', 'quit', or Ctrl-D.\", stacklevel=1)\n"
     ]
    }
   ],
   "source": [
    "import load_model,craft_predict\n"
   ]
  },
  {
   "cell_type": "code",
   "execution_count": null,
   "id": "5ceb53ad-57f6-4dc9-8efb-2ccb52adacce",
   "metadata": {},
   "outputs": [],
   "source": []
  }
 ],
 "metadata": {
  "kernelspec": {
   "display_name": "Python 3 (ipykernel)",
   "language": "python",
   "name": "python3"
  },
  "language_info": {
   "codemirror_mode": {
    "name": "ipython",
    "version": 3
   },
   "file_extension": ".py",
   "mimetype": "text/x-python",
   "name": "python",
   "nbconvert_exporter": "python",
   "pygments_lexer": "ipython3",
   "version": "3.9.19"
  }
 },
 "nbformat": 4,
 "nbformat_minor": 5
}
